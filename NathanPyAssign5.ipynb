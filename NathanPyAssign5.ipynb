{
 "metadata": {
  "name": "",
  "signature": "sha256:ca7ee0899d98433a7be728ac70968d44aabbdc8fcd7a5eda4c4852839fbd46ac"
 },
 "nbformat": 3,
 "nbformat_minor": 0,
 "worksheets": [
  {
   "cells": [
    {
     "cell_type": "code",
     "collapsed": false,
     "input": [
      "pretzel = open('/Users/nathangroom/Desktop/uitem.txt')\n",
      "count=0\n",
      "for line in pretzel:\n",
      "    if line.startswith('480'):\n",
      "        print line\n",
      "    elif line.startswith('482'):\n",
      "        print line\n",
      "    elif line.startswith('526'):\n",
      "        print line\n",
      "    elif line.startswith('843'):\n",
      "        print line\n",
      "    elif line.startswith('1512'):\n",
      "        print line\n",
      "\n"
     ],
     "language": "python",
     "metadata": {},
     "outputs": []
    }
   ],
   "metadata": {}
  }
 ]
}